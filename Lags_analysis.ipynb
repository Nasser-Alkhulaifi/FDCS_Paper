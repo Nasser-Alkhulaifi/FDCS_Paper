{
 "cells": [
  {
   "cell_type": "markdown",
   "metadata": {},
   "source": [
    "# FDCS_1"
   ]
  },
  {
   "cell_type": "code",
   "execution_count": 3,
   "metadata": {},
   "outputs": [
    {
     "name": "stdout",
     "output_type": "stream",
     "text": [
      "{'Electricity Consumption': [168, 192, 216, 264, 240, 288, 336, 312, 215, 263], 'Humidity Closer to Evaporator (%)': [168, 192, 169, 191, 216, 170, 240, 264, 193, 171], 'Temperature Closer to Evaporator (C)': [168, 192, 216, 240, 264, 288, 312, 336, 191, 215]}\n"
     ]
    }
   ],
   "source": [
    "from lags_identifier import find_top_correlated_lags\n",
    "import pandas as pd\n",
    "df = pd.read_csv(r'/home/lixna37/Downloads/FDCSs_Feb_2024/Datasets/FDCS_1/FDCS_1_Feb_2024.csv')\n",
    "\n",
    "columns = ['Electricity Consumption',\n",
    "           'Humidity Closer to Evaporator (%)',\n",
    "           'Temperature Closer to Evaporator (C)']\n",
    "lag_range = (168, 336)  # one week of data (0-167 one week back where zero is inclusive)\n",
    "\n",
    "strong_lags = find_top_correlated_lags(df, columns, lag_range)\n",
    "print(strong_lags)"
   ]
  },
  {
   "cell_type": "markdown",
   "metadata": {},
   "source": [
    "# FDCS_2"
   ]
  },
  {
   "cell_type": "code",
   "execution_count": 4,
   "metadata": {},
   "outputs": [
    {
     "name": "stdout",
     "output_type": "stream",
     "text": [
      "{'Electricity Consumption': [168, 169, 261, 264, 335, 243, 242, 336, 241, 186], 'Humidity Closer to Evaporator (%)': [168, 261, 169, 264, 336, 263, 178, 242, 243, 335], 'Temperature Closer to Evaporator (C)': [168, 169, 185, 264, 186, 263, 184, 218, 187, 188]}\n"
     ]
    }
   ],
   "source": [
    "from lags_identifier import find_top_correlated_lags\n",
    "import pandas as pd\n",
    "df = pd.read_csv(r'/home/lixna37/Downloads/FDCSs_Feb_2024/Datasets/FDCS_2/FDCS_2_Feb_2024.csv')\n",
    "\n",
    "columns = ['Electricity Consumption',\n",
    "           'Humidity Closer to Evaporator (%)',\n",
    "           'Temperature Closer to Evaporator (C)']\n",
    "lag_range = (168, 336)  # one week of data\n",
    "\n",
    "strong_lags = find_top_correlated_lags(df, columns, lag_range)\n",
    "print(strong_lags)"
   ]
  },
  {
   "cell_type": "code",
   "execution_count": null,
   "metadata": {},
   "outputs": [],
   "source": []
  },
  {
   "cell_type": "code",
   "execution_count": null,
   "metadata": {},
   "outputs": [],
   "source": []
  }
 ],
 "metadata": {
  "kernelspec": {
   "display_name": "myenv",
   "language": "python",
   "name": "python3"
  },
  "language_info": {
   "codemirror_mode": {
    "name": "ipython",
    "version": 3
   },
   "file_extension": ".py",
   "mimetype": "text/x-python",
   "name": "python",
   "nbconvert_exporter": "python",
   "pygments_lexer": "ipython3",
   "version": "3.11.5"
  }
 },
 "nbformat": 4,
 "nbformat_minor": 2
}
