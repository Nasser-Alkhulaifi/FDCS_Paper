{
 "cells": [
  {
   "cell_type": "markdown",
   "metadata": {},
   "source": [
    "# FDCS_1"
   ]
  },
  {
   "cell_type": "code",
   "execution_count": 3,
   "metadata": {},
   "outputs": [
    {
     "name": "stdout",
     "output_type": "stream",
     "text": [
      "{'Electricity Consumption': [168, 192, 216, 264, 240, 288, 336, 312, 215, 263], 'Humidity Closer to Evaporator (%)': [168, 192, 169, 191, 216, 170, 240, 264, 193, 171], 'Temperature Closer to Evaporator (C)': [168, 192, 216, 240, 264, 288, 312, 336, 191, 215]}\n"
     ]
    }
   ],
   "source": [
    "from lags_identifier import find_top_correlated_lags\n",
    "\"\"\"\n",
    "This script identifies the top correlated lags for specified columns in a DataFrame.\n",
    "\n",
    "Modules:\n",
    "    lags_identifier: Contains the function `find_top_correlated_lags` to find the top correlated lags.\n",
    "    pandas: Used for data manipulation and analysis.\n",
    "\n",
    "Functions:\n",
    "    find_top_correlated_lags(df, columns, lag_range): Identifies the top correlated lags for the specified columns within the given lag range.\n",
    "\n",
    "Variables:\n",
    "    df (pd.DataFrame): The DataFrame containing the data read from a CSV file.\n",
    "    columns (list of str): The list of column names for which to find the top correlated lags.\n",
    "    lag_range (tuple of int): The range of lags to consider for correlation analysis.\n",
    "\n",
    "Usage:\n",
    "    The script reads a CSV file into a DataFrame, specifies the columns of interest, and the lag range.\n",
    "    It then calls `find_top_correlated_lags` to find the top correlated lags for the specified columns and prints the result.\n",
    "\"\"\"\n",
    "import pandas as pd\n",
    "df = pd.read_csv(r'.csv')\n",
    "\n",
    "columns = ['Electricity Consumption',\n",
    "           'Humidity Closer to Evaporator (%)',\n",
    "           'Temperature Closer to Evaporator (C)']\n",
    "lag_range = (168, 336)  # one week of data (0-167 one week back where zero is inclusive)\n",
    "\n",
    "strong_lags = find_top_correlated_lags(df, columns, lag_range)\n",
    "print(strong_lags)"
   ]
  },
  {
   "cell_type": "markdown",
   "metadata": {},
   "source": [
    "# FDCS_2"
   ]
  },
  {
   "cell_type": "code",
   "execution_count": 4,
   "metadata": {},
   "outputs": [
    {
     "name": "stdout",
     "output_type": "stream",
     "text": [
      "{'Electricity Consumption': [168, 169, 261, 264, 335, 243, 242, 336, 241, 186], 'Humidity Closer to Evaporator (%)': [168, 261, 169, 264, 336, 263, 178, 242, 243, 335], 'Temperature Closer to Evaporator (C)': [168, 169, 185, 264, 186, 263, 184, 218, 187, 188]}\n"
     ]
    }
   ],
   "source": [
    "from lags_identifier import find_top_correlated_lags\n",
    "\"\"\"\n",
    "This script reads a CSV file into a pandas DataFrame, selects specific columns related to \n",
    "electricity consumption, humidity, and temperature, and identifies the top correlated lags \n",
    "within a specified range using the `find_top_correlated_lags` function from the \n",
    "`lags_identifier` module.\n",
    "\n",
    "Modules:\n",
    "    lags_identifier: Contains the `find_top_correlated_lags` function.\n",
    "    pandas: Used for data manipulation and analysis.\n",
    "\n",
    "Functions:\n",
    "    find_top_correlated_lags(df, columns, lag_range): Identifies the top correlated lags \n",
    "    for the specified columns within the given lag range.\n",
    "\n",
    "Variables:\n",
    "    df (pd.DataFrame): The DataFrame containing the data read from the CSV file.\n",
    "    columns (list of str): The list of column names to be analyzed for lag correlation.\n",
    "    lag_range (tuple of int): The range of lags to be considered for correlation analysis.\n",
    "    strong_lags (dict): The dictionary containing the top correlated lags for each column.\n",
    "\n",
    "Usage:\n",
    "    The script reads data from a CSV file, identifies the top correlated lags for the \n",
    "    specified columns within the given lag range, and prints the results.\n",
    "\"\"\"\n",
    "import pandas as pd\n",
    "df = pd.read_csv(r'.csv')\n",
    "\n",
    "columns = ['Electricity Consumption',\n",
    "           'Humidity Closer to Evaporator (%)',\n",
    "           'Temperature Closer to Evaporator (C)']\n",
    "lag_range = (168, 336)  # one week of data\n",
    "\n",
    "strong_lags = find_top_correlated_lags(df, columns, lag_range)\n",
    "print(strong_lags)"
   ]
  },
  {
   "cell_type": "code",
   "execution_count": null,
   "metadata": {},
   "outputs": [],
   "source": []
  },
  {
   "cell_type": "code",
   "execution_count": null,
   "metadata": {},
   "outputs": [],
   "source": []
  }
 ],
 "metadata": {
  "kernelspec": {
   "display_name": "myenv",
   "language": "python",
   "name": "python3"
  },
  "language_info": {
   "codemirror_mode": {
    "name": "ipython",
    "version": 3
   },
   "file_extension": ".py",
   "mimetype": "text/x-python",
   "name": "python",
   "nbconvert_exporter": "python",
   "pygments_lexer": "ipython3",
   "version": "3.11.5"
  }
 },
 "nbformat": 4,
 "nbformat_minor": 2
}
